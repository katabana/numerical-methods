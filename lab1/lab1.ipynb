{
 "cells": [
  {
   "cell_type": "markdown",
   "metadata": {},
   "source": [
    "<h2> MOwNiT lab1 - Arytmetyka komputerowa </h2>\n",
    "\n"
   ]
  },
  {
   "cell_type": "markdown",
   "metadata": {},
   "source": [
    "<b> Zadanie 1 </b>  Porównać w języku Julia reprezentację bitową liczby 1/3 dla Float32, Float64 oraz liczby, \n",
    "która jest inicjalizowana jako Float32, a potem rzutowana na Float64."
   ]
  },
  {
   "cell_type": "code",
   "execution_count": 1,
   "metadata": {
    "collapsed": false
   },
   "outputs": [
    {
     "name": "stdout",
     "output_type": "stream",
     "text": [
      "00111110101010101010101010101011\n",
      "0011111111010101010101010101010101010101010101010101010101010101\n",
      "0011111111010101010101010101010101100000000000000000000000000000\n"
     ]
    }
   ],
   "source": [
    "println(bits(Float32(1/3)))\n",
    "println(bits(Float64(1/3)))\n",
    "println(bits(Float64(Float32(1/3))))"
   ]
  },
  {
   "cell_type": "markdown",
   "metadata": {},
   "source": [
    "<b>Zadanie 2</b> Zbadać, jak zmienia się odległość między kolejnymi liczbami zminnoprzecinkowymi \n",
    "reprezentowanymi w komputerze za pomocą języka Julia. \n",
    "Narysować wykres, używając Gadfly zależności odległości od wartości liczby dla zakresu  od 1.0 do 1000.0 z krokiem 1.0."
   ]
  },
  {
   "cell_type": "code",
   "execution_count": null,
   "metadata": {
    "collapsed": false
   },
   "outputs": [],
   "source": [
    "#Pkg.add(\"Gadfly\")\n",
    "using Gadfly\n",
    "dark_panel = Theme(\n",
    "    panel_fill=\"black\",\n",
    "    default_color=\"orange\"\n",
    ")\n",
    "Gadfly.push_theme(dark_panel)\n",
    "\n",
    "x = [i for i in 1.0:1000.0]\n",
    "y = Float64[]\n",
    "\n",
    "for i in x\n",
    "    push!(y, eps(i))\n",
    "end\n",
    "plot(x=x, y=y)\n",
    "    "
   ]
  },
  {
   "cell_type": "markdown",
   "metadata": {},
   "source": [
    "<b>Zadanie 3</b> Jedną z bibliotek numerycznych, jaką będziemy używać na zajęciach jest <a href=\"http://home.agh.edu.pl/~kzajac/dydakt/mownit/lab1/gsl.html\">GSL</a> (język C). Korzystając ze <a href=\"https://www.gnu.org/software/gsl/doc/html/ieee754.html\"> wsparcia dla wyświetlania reprezentacji liczb zmiennoprzecinkowych</a> zobaczyć jak zmienia się cecha i mantysa dla coraz mniejszych liczb. Zaobserwować, kiedy matysa przestaje być znormalizowana i dlaczego?"
   ]
  },
  {
   "cell_type": "markdown",
   "metadata": {},
   "source": [
    "<b>Zadanie 4</b> Wymyślić własny przykład algorytmu niestablinego numerycznie. \n",
    "1. Zademostrować wersję niestabilną, pokazać, że działa źle.\n",
    "2. Wyjaśnić, dlaczego działa źle.\n",
    "3. Zademonstować wersję stabilną.\n",
    "4. Język dowolny."
   ]
  },
  {
   "cell_type": "markdown",
   "metadata": {},
   "source": [
    "### Obliczyć całkę: \n",
    "$I_n = \\frac{1}{e}\\int_{0}^{1}x^ne^x dx$ <br>\n",
    "założenie: n $\\ge$ 0"
   ]
  },
  {
   "cell_type": "markdown",
   "metadata": {},
   "source": [
    "### I algorytm\n",
    "$I_0 = \\frac{1}{e}\\int_{0}^{1}e^x dx = 1 - e^{-1} $ <br>\n",
    "$I_n = 1 - nI_{n-1} $ <br><br>\n",
    "<i>(błąd rośnie wykładniczo)</i>"
   ]
  },
  {
   "cell_type": "code",
   "execution_count": 33,
   "metadata": {
    "collapsed": false,
    "scrolled": false
   },
   "outputs": [
    {
     "name": "stdout",
     "output_type": "stream",
     "text": [
      "5.412114679285578e9\n",
      "6.1289425661802326e25\n",
      "1.2350636805510578e44\n",
      "7.347008690767148e63\n",
      "8.869039935607776e128\n",
      "4.731615410204086e175\n",
      "1.9807695400003563e249\n",
      "-1.0210705125861445e308\n"
     ]
    }
   ],
   "source": [
    "# Obliczyć całkę I algorytmem\n",
    "\n",
    "function f(n)\n",
    "    y0 = 1 - e^(-1)\n",
    "    y = 0\n",
    "    for i in 1:n\n",
    "       y = 1 - n * y0\n",
    "       y0 = y\n",
    "    end\n",
    "    println(y)\n",
    "end\n",
    "\n",
    "f(10)\n",
    "f(20)\n",
    "f(30)\n",
    "f(40)\n",
    "f(70)\n",
    "f(90)\n",
    "f(120)\n",
    "f(143)"
   ]
  },
  {
   "cell_type": "markdown",
   "metadata": {},
   "source": [
    "### II algorytm\n",
    "Weźmy duże N np. N = 100 <br>\n",
    "$ I_N = 0 $ <br><br>\n",
    "Równanie z I algorytmu przekształćmy do postaci: <br>\n",
    "$I_{n-1} = \\frac{1}{n}(1 - I_n) $\n",
    "\n",
    "<i> (błąd zbiega do 0) </i>"
   ]
  },
  {
   "cell_type": "code",
   "execution_count": 34,
   "metadata": {
    "collapsed": false
   },
   "outputs": [
    {
     "name": "stdout",
     "output_type": "stream",
     "text": [
      "5.412114679285578e9\n",
      "6.1289425661802326e25\n",
      "1.2350636805510578e44\n",
      "7.347008690767148e63\n",
      "8.869039935607776e128\n",
      "4.731615410204086e175\n",
      "1.9807695400003563e249\n",
      "-1.0210705125861445e308\n"
     ]
    }
   ],
   "source": [
    "# Obliczyć całkę II algorytmem\n",
    "\n",
    "function g(n)\n",
    "    N = 200\n",
    "    yN = 0\n",
    "    y = Float64[]\n",
    "    for i in 1:N\n",
    "        yN = 1/(n)*(1-yN)\n",
    "        insert!(y, 1, yN)\n",
    "    end\n",
    "    println(y[n])\n",
    "end\n",
    "\n",
    "f(10)\n",
    "f(20)\n",
    "f(30)\n",
    "f(40)\n",
    "f(70)\n",
    "f(90)\n",
    "f(120)\n",
    "f(143)\n",
    "        "
   ]
  }
 ],
 "metadata": {
  "celltoolbar": "Raw Cell Format",
  "kernelspec": {
   "display_name": "Julia 0.6.0",
   "language": "julia",
   "name": "julia-0.6"
  },
  "language_info": {
   "file_extension": ".jl",
   "mimetype": "application/julia",
   "name": "julia",
   "version": "0.6.0"
  }
 },
 "nbformat": 4,
 "nbformat_minor": 2
}
